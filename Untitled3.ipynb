{
 "cells": [
  {
   "cell_type": "markdown",
   "id": "a837fced-8f6b-44e2-9dab-793e2c847d98",
   "metadata": {},
   "source": [
    "<h1>Meu Jupyter Notebook no IBM Watson Studio<h1>"
   ]
  },
  {
   "cell_type": "markdown",
   "id": "0ff81595-d17b-4d04-a9ae-d5a0872515e5",
   "metadata": {},
   "source": [
    "**Eduardo Mancilha Machado**"
   ]
  },
  {
   "cell_type": "markdown",
   "id": "89f990c4-4424-4338-aeed-ddbc7165e4a6",
   "metadata": {},
   "source": [
    "Ocupação desejada: Ciêntista de dados"
   ]
  },
  {
   "cell_type": "markdown",
   "id": "c88a4093-54ed-4c70-8e4a-2d797c080108",
   "metadata": {},
   "source": [
    "*Estou interessado em Ciência de dados, pois quero ajudar no crescimento das empresas em que desejo trabalhar no futuro*"
   ]
  },
  {
   "cell_type": "markdown",
   "id": "3560abd4-99fa-46f8-8019-8e8d065c0be1",
   "metadata": {},
   "source": [
    "<h3>Na saída da célula abaixo deverá aparecer o resultado da soma entre os números 3 e 4<h/3>"
   ]
  },
  {
   "cell_type": "code",
   "execution_count": 3,
   "id": "883bc788-8a95-4c43-83e2-36449786fbd5",
   "metadata": {},
   "outputs": [
    {
     "data": {
      "text/plain": [
       "7"
      ]
     },
     "execution_count": 3,
     "metadata": {},
     "output_type": "execute_result"
    }
   ],
   "source": [
    "3 + 4"
   ]
  },
  {
   "cell_type": "markdown",
   "id": "aa7714a8-b1de-43e5-9187-f7c1337765f5",
   "metadata": {},
   "source": [
    "Realizando teste no jupyter\n",
    "***\n",
    "\n",
    "1. Casa1\n",
    "2. Casa2\n",
    "\n",
    "\n",
    "* Empresa São Carlos\n",
    "* Empresa Ibaté\n"
   ]
  },
  {
   "cell_type": "code",
   "execution_count": null,
   "id": "ce3e3dcd-5543-43ec-b834-415c8df9c5ed",
   "metadata": {},
   "outputs": [],
   "source": []
  }
 ],
 "metadata": {
  "kernelspec": {
   "display_name": "Python",
   "language": "python",
   "name": "conda-env-python-py"
  },
  "language_info": {
   "codemirror_mode": {
    "name": "ipython",
    "version": 3
   },
   "file_extension": ".py",
   "mimetype": "text/x-python",
   "name": "python",
   "nbconvert_exporter": "python",
   "pygments_lexer": "ipython3",
   "version": "3.7.12"
  }
 },
 "nbformat": 4,
 "nbformat_minor": 5
}
